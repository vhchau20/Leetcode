{
 "cells": [
  {
   "cell_type": "code",
   "execution_count": 18,
   "metadata": {},
   "outputs": [
    {
     "name": "stdout",
     "output_type": "stream",
     "text": [
      "{3: 3, 2: 2, 1: 1} \n",
      " [1, 3, 2]\n"
     ]
    }
   ],
   "source": [
    "import heapq as h\n",
    "def topKFrequent2(nums,k):\n",
    "    A = {}\n",
    "    for i in nums:\n",
    "        A[i] = A.get(i,0) + 1\n",
    "    heap = []\n",
    "    for i in A:\n",
    "        h.heappush(heap, A[i])\n",
    "    print(A,'\\n',heap)\n",
    "\n",
    "\n",
    "\n",
    "\n",
    "topKFrequent2([3,3,3,3,3,2,2,2,1],2)"
   ]
  }
 ],
 "metadata": {
  "kernelspec": {
   "display_name": "Python 3",
   "language": "python",
   "name": "python3"
  },
  "language_info": {
   "codemirror_mode": {
    "name": "ipython",
    "version": 3
   },
   "file_extension": ".py",
   "mimetype": "text/x-python",
   "name": "python",
   "nbconvert_exporter": "python",
   "pygments_lexer": "ipython3",
   "version": "3.7.6"
  }
 },
 "nbformat": 4,
 "nbformat_minor": 4
}
