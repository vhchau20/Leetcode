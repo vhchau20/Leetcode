{
 "cells": [
  {
   "cell_type": "code",
   "execution_count": 69,
   "metadata": {},
   "outputs": [],
   "source": [
    "# def B(nums, target):\n",
    "#     d={}\n",
    "#     for i in range(len(nums)):\n",
    "#         d[nums[i]] = nums[i] - target\n",
    "#         if d[nums[i]] in d.keys():\n",
    "#             return [nums[i],d[nums[i]]]\n",
    "\n",
    "# nums=[5,20,3,2,50,80]\n",
    "# target=78\n",
    "# B(nums,target)"
   ]
  },
  {
   "cell_type": "code",
   "execution_count": 128,
   "metadata": {},
   "outputs": [
    {
     "name": "stdout",
     "output_type": "stream",
     "text": [
      "OrderedDict([('A', 6), ('B', 1), ('C', 1), ('D', 1), ('E', 1), ('F', 1), ('G', 1)])\n"
     ]
    },
    {
     "data": {
      "text/plain": [
       "11"
      ]
     },
     "execution_count": 128,
     "metadata": {},
     "output_type": "execute_result"
    }
   ],
   "source": [
    "import collections\n",
    "def A(tasks,n):\n",
    "    nn = n\n",
    "    d={}\n",
    "    count=0\n",
    "    # Get frequency of each key\n",
    "    for i in tasks:\n",
    "        d[i]=d.get(i,0)+1\n",
    "    od = collections.OrderedDict(sorted(collections.Counter(tasks).items(), key=lambda t: t[1], reverse=True))\n",
    "    print(od)\n",
    "    i=0\n",
    "    while od:\n",
    "        if nn == 0:\n",
    "            nn = n\n",
    "            i = 0\n",
    "        \n",
    "        key = list(od)[i]\n",
    "        od[key] -= 1\n",
    "        if od[key] == 0:\n",
    "            od.pop(key)\n",
    "            if not od:\n",
    "                break\n",
    "\n",
    "        count += 1\n",
    "        \n",
    "        nn -= 1\n",
    "        i = (i+1) % len(od)\n",
    "    return count\n",
    "\n",
    "\n",
    "\n",
    "a=[\"A\",\"A\",\"A\",\"B\",\"B\",\"B\"]\n",
    "b=[\"A\",\"A\",\"A\",\"A\",\"A\",\"A\",\"B\",\"C\",\"D\",\"E\",\"F\",\"G\"]\n",
    "c=[\"A\",\"A\",\"A\",\"A\",\"A\",\"A\",\"B\",\"B\",\"B\",\"B\",\"B\",\"C\",\"C\",\"C\",\"C\",\"D\",\"D\",\"D\",\"E\",\"E\",\"F\",\"G\"]\n",
    "n=2\n",
    "\n",
    "\n",
    "A(b,n)"
   ]
  },
  {
   "cell_type": "code",
   "execution_count": 1,
   "metadata": {},
   "outputs": [
    {
     "name": "stdout",
     "output_type": "stream",
     "text": [
      "dict_values([6, 1, 1, 1, 1, 1, 1])\n",
      "6\n"
     ]
    },
    {
     "data": {
      "text/plain": [
       "18"
      ]
     },
     "execution_count": 1,
     "metadata": {},
     "output_type": "execute_result"
    }
   ],
   "source": [
    "import collections\n",
    "def B(tasks,N):\n",
    "    task_counts = collections.Counter(tasks).values()\n",
    "    print(task_counts)\n",
    "    M = max(task_counts)\n",
    "    print(M)\n",
    "#     Mct = task_counts.count(M)\n",
    "#     print(Mct)\n",
    "    Mct=3\n",
    "    return max(len(tasks), (M - 1) * (N + 1) + Mct)\n",
    "\n",
    "\n",
    "a=[\"A\",\"A\",\"A\",\"B\",\"B\",\"B\"]\n",
    "b=[\"A\",\"A\",\"A\",\"A\",\"A\",\"A\",\"B\",\"C\",\"D\",\"E\",\"F\",\"G\"]\n",
    "c=[\"A\",\"A\",\"A\",\"A\",\"A\",\"A\",\"B\",\"B\",\"B\",\"B\",\"B\",\"C\",\"C\",\"C\",\"C\",\"D\",\"D\",\"D\",\"E\",\"E\",\"F\",\"G\"]\n",
    "n=2\n",
    "\n",
    "\n",
    "\n",
    "B(b,n)"
   ]
  }
 ],
 "metadata": {
  "kernelspec": {
   "display_name": "Python 3",
   "language": "python",
   "name": "python3"
  },
  "language_info": {
   "codemirror_mode": {
    "name": "ipython",
    "version": 3
   },
   "file_extension": ".py",
   "mimetype": "text/x-python",
   "name": "python",
   "nbconvert_exporter": "python",
   "pygments_lexer": "ipython3",
   "version": "3.7.7"
  }
 },
 "nbformat": 4,
 "nbformat_minor": 4
}
