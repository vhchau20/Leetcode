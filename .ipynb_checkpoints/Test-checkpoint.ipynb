{
 "cells": [
  {
   "cell_type": "code",
   "execution_count": 1,
   "metadata": {},
   "outputs": [
    {
     "data": {
      "text/plain": [
       "[80, 2]"
      ]
     },
     "execution_count": 1,
     "metadata": {},
     "output_type": "execute_result"
    }
   ],
   "source": [
    "def A(nums, target):\n",
    "    d={}\n",
    "    for i in range(len(nums)):\n",
    "        d[nums[i]] = nums[i] - target\n",
    "        if d[nums[i]] in d.keys():\n",
    "            return [nums[i],d[nums[i]]]\n",
    "\n",
    "nums=[5,20,3,2,50,80]\n",
    "target=78\n",
    "A(nums,target)"
   ]
  },
  {
   "cell_type": "code",
   "execution_count": null,
   "metadata": {},
   "outputs": [],
   "source": [
    "def A(tasks,n):\n",
    "    nn = n\n",
    "    d={}\n",
    "    count=0\n",
    "    for i in tasks:\n",
    "        d[i]=d.get(i,0)+1\n",
    "    od = c.OrderedDict(sorted(c.Counter(tasks).items(), key=lambda t: t[1], reverse=True))\n",
    "    i=0\n",
    "    # while od:\n",
    "    #   key = od.keys()[i]\n",
    "    #   od[key]-=1\n",
    "    #   if od[key] == 0:\n",
    "    #       del od[key]\n",
    "    print od\n",
    "    del od[0]\n",
    "    print od\n",
    "\n",
    "\n",
    "\n",
    "a=[\"A\",\"A\",\"A\",\"A\",\"B\",\"B\",\"B\"]\n",
    "b=[\"A\",\"A\",\"A\",\"A\",\"A\",\"A\",\"B\",\"C\",\"D\",\"E\",\"E\",\"F\",\"G\"]\n",
    "n=2\n",
    "\n",
    "\n",
    "A(b,n)"
   ]
  }
 ],
 "metadata": {
  "kernelspec": {
   "display_name": "Python 3",
   "language": "python",
   "name": "python3"
  },
  "language_info": {
   "codemirror_mode": {
    "name": "ipython",
    "version": 3
   },
   "file_extension": ".py",
   "mimetype": "text/x-python",
   "name": "python",
   "nbconvert_exporter": "python",
   "pygments_lexer": "ipython3",
   "version": "3.7.7"
  }
 },
 "nbformat": 4,
 "nbformat_minor": 4
}
